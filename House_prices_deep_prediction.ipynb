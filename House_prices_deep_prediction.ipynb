{
 "cells": [
  {
   "cell_type": "code",
   "execution_count": 1,
   "metadata": {},
   "outputs": [],
   "source": [
    "import numpy as np\n",
    "import pandas as pd\n",
    "import seaborn as sns\n",
    "from sklearn.impute import KNNImputer\n",
    "from sklearn.preprocessing import MinMaxScaler\n",
    "from sklearn.preprocessing import RobustScaler\n",
    "from sklearn.preprocessing import OneHotEncoder\n",
    "from sklearn.linear_model import LinearRegression\n",
    "from sklearn.neighbors import KNeighborsRegressor\n",
    "from sklearn.svm import SVR\n",
    "from sklearn.tree import DecisionTreeRegressor\n",
    "import matplotlib.pyplot as plt\n",
    "from tensorflow.keras import layers\n",
    "from tensorflow.keras.callbacks import EarlyStopping\n",
    "from sklearn.model_selection import train_test_split\n",
    "from sklearn.metrics import accuracy_score"
   ]
  },
  {
   "cell_type": "code",
   "execution_count": 229,
   "metadata": {},
   "outputs": [],
   "source": [
    "#Importing training data\n",
    "df_train = pd.read_csv('train.csv', index_col = 'Id')"
   ]
  },
  {
   "cell_type": "code",
   "execution_count": 230,
   "metadata": {},
   "outputs": [
    {
     "data": {
      "text/plain": [
       "LotFrontage     17.739726\n",
       "Alley           93.767123\n",
       "MasVnrType       0.547945\n",
       "MasVnrArea       0.547945\n",
       "BsmtQual         2.534247\n",
       "BsmtCond         2.534247\n",
       "BsmtExposure     2.602740\n",
       "BsmtFinType1     2.534247\n",
       "BsmtFinType2     2.602740\n",
       "Electrical       0.068493\n",
       "FireplaceQu     47.260274\n",
       "GarageType       5.547945\n",
       "GarageYrBlt      5.547945\n",
       "GarageFinish     5.547945\n",
       "GarageQual       5.547945\n",
       "GarageCond       5.547945\n",
       "PoolQC          99.520548\n",
       "Fence           80.753425\n",
       "MiscFeature     96.301370\n",
       "dtype: float64"
      ]
     },
     "execution_count": 230,
     "metadata": {},
     "output_type": "execute_result"
    }
   ],
   "source": [
    "df_train[df_train.columns[df_train.isnull().sum() > 0]].isna().mean()*100"
   ]
  },
  {
   "cell_type": "code",
   "execution_count": 231,
   "metadata": {},
   "outputs": [],
   "source": [
    "#Drop columns with much null values\n",
    "df_train = df_train.drop(['Alley', 'FireplaceQu', 'PoolQC', 'Fence', 'MiscFeature'], axis = 1)"
   ]
  },
  {
   "cell_type": "code",
   "execution_count": 232,
   "metadata": {},
   "outputs": [],
   "source": [
    "#Handling MSSubClass column which identifies the type of dwelling involved in the sale and has integer values\n",
    "df_train['MSSubClass'] = df_train['MSSubClass'].astype(str)"
   ]
  },
  {
   "cell_type": "code",
   "execution_count": 233,
   "metadata": {},
   "outputs": [],
   "source": [
    "#Encoding and handling null values\n",
    "df_encoded = pd.get_dummies(df_train, drop_first = True)\n",
    "imputer = KNNImputer()\n",
    "df_copy = df_encoded.copy()\n",
    "df_without_nan = pd.DataFrame(imputer.fit_transform(df_encoded))\n",
    "df_without_nan.columns = df_copy.columns"
   ]
  },
  {
   "cell_type": "code",
   "execution_count": 234,
   "metadata": {},
   "outputs": [],
   "source": [
    "#Make train and test data and scale them separately\n",
    "X = df_without_nan.drop('SalePrice', axis = 1)\n",
    "y = df_without_nan['SalePrice']\n",
    "scaler = RobustScaler()\n",
    "target_scaler = RobustScaler()\n",
    "X_scaled = pd.DataFrame(scaler.fit_transform(X))\n",
    "y_scaled = pd.DataFrame(target_scaler.fit_transform(pd.DataFrame(y)))\n",
    "X_train, X_test, y_train, y_test = train_test_split(X_scaled, y_scaled, test_size=0.20)"
   ]
  },
  {
   "cell_type": "code",
   "execution_count": 235,
   "metadata": {},
   "outputs": [],
   "source": [
    "#Make a model\n",
    "import keras\n",
    "model = keras.Sequential([layers.BatchNormalization(input_shape = [X.shape[1]]),\n",
    "                         layers.Dense(128, activation = 'relu'),\n",
    "                         layers.BatchNormalization(),\n",
    "                         layers.Dropout(0.3),\n",
    "                         layers.Dense(128, activation = 'relu'),\n",
    "                         layers.BatchNormalization(),\n",
    "                         layers.Dropout(0.3),\n",
    "                         layers.Dense(1)])\n",
    "model.compile(loss = 'mae', optimizer = 'adam')"
   ]
  },
  {
   "cell_type": "code",
   "execution_count": 237,
   "metadata": {},
   "outputs": [],
   "source": [
    "#Make a callback for the model to stop training when it stops improving\n",
    "callback = EarlyStopping(min_delta = 0.0005,\n",
    "                        patience = 20,\n",
    "                        restore_best_weights = True)"
   ]
  },
  {
   "cell_type": "code",
   "execution_count": 238,
   "metadata": {},
   "outputs": [
    {
     "name": "stdout",
     "output_type": "stream",
     "text": [
      "Epoch 1/200\n",
      "12/12 [==============================] - 1s 15ms/step - loss: 1.1772 - val_loss: 0.6354\n",
      "Epoch 2/200\n",
      "12/12 [==============================] - 0s 6ms/step - loss: 0.9101 - val_loss: 0.6219\n",
      "Epoch 3/200\n",
      "12/12 [==============================] - 0s 6ms/step - loss: 0.8181 - val_loss: 0.5878\n",
      "Epoch 4/200\n",
      "12/12 [==============================] - 0s 6ms/step - loss: 0.8020 - val_loss: 0.5442\n",
      "Epoch 5/200\n",
      "12/12 [==============================] - 0s 6ms/step - loss: 0.7374 - val_loss: 0.5120\n",
      "Epoch 6/200\n",
      "12/12 [==============================] - 0s 6ms/step - loss: 0.7005 - val_loss: 0.4963\n",
      "Epoch 7/200\n",
      "12/12 [==============================] - 0s 6ms/step - loss: 0.6290 - val_loss: 0.4511\n",
      "Epoch 8/200\n",
      "12/12 [==============================] - 0s 6ms/step - loss: 0.6380 - val_loss: 0.4017\n",
      "Epoch 9/200\n",
      "12/12 [==============================] - 0s 6ms/step - loss: 0.5963 - val_loss: 0.4571\n",
      "Epoch 10/200\n",
      "12/12 [==============================] - 0s 6ms/step - loss: 0.5739 - val_loss: 0.3964\n",
      "Epoch 11/200\n",
      "12/12 [==============================] - 0s 7ms/step - loss: 0.5525 - val_loss: 0.3914\n",
      "Epoch 12/200\n",
      "12/12 [==============================] - 0s 6ms/step - loss: 0.5117 - val_loss: 0.3652\n",
      "Epoch 13/200\n",
      "12/12 [==============================] - 0s 6ms/step - loss: 0.4915 - val_loss: 0.3291\n",
      "Epoch 14/200\n",
      "12/12 [==============================] - 0s 7ms/step - loss: 0.4608 - val_loss: 0.3339\n",
      "Epoch 15/200\n",
      "12/12 [==============================] - 0s 6ms/step - loss: 0.4289 - val_loss: 0.3308\n",
      "Epoch 16/200\n",
      "12/12 [==============================] - 0s 7ms/step - loss: 0.4119 - val_loss: 0.3016\n",
      "Epoch 17/200\n",
      "12/12 [==============================] - 0s 7ms/step - loss: 0.4019 - val_loss: 0.2880\n",
      "Epoch 18/200\n",
      "12/12 [==============================] - 0s 6ms/step - loss: 0.3621 - val_loss: 0.2660\n",
      "Epoch 19/200\n",
      "12/12 [==============================] - 0s 7ms/step - loss: 0.3757 - val_loss: 0.2716\n",
      "Epoch 20/200\n",
      "12/12 [==============================] - 0s 7ms/step - loss: 0.3387 - val_loss: 0.2608\n",
      "Epoch 21/200\n",
      "12/12 [==============================] - 0s 6ms/step - loss: 0.3475 - val_loss: 0.2439\n",
      "Epoch 22/200\n",
      "12/12 [==============================] - 0s 6ms/step - loss: 0.3209 - val_loss: 0.2539\n",
      "Epoch 23/200\n",
      "12/12 [==============================] - 0s 7ms/step - loss: 0.2988 - val_loss: 0.2445\n",
      "Epoch 24/200\n",
      "12/12 [==============================] - 0s 6ms/step - loss: 0.2900 - val_loss: 0.2225\n",
      "Epoch 25/200\n",
      "12/12 [==============================] - 0s 7ms/step - loss: 0.2997 - val_loss: 0.2210\n",
      "Epoch 26/200\n",
      "12/12 [==============================] - 0s 7ms/step - loss: 0.2732 - val_loss: 0.2275\n",
      "Epoch 27/200\n",
      "12/12 [==============================] - 0s 6ms/step - loss: 0.2828 - val_loss: 0.2241\n",
      "Epoch 28/200\n",
      "12/12 [==============================] - 0s 6ms/step - loss: 0.2616 - val_loss: 0.2108\n",
      "Epoch 29/200\n",
      "12/12 [==============================] - 0s 6ms/step - loss: 0.2522 - val_loss: 0.2138\n",
      "Epoch 30/200\n",
      "12/12 [==============================] - 0s 6ms/step - loss: 0.2485 - val_loss: 0.2020\n",
      "Epoch 31/200\n",
      "12/12 [==============================] - 0s 6ms/step - loss: 0.2463 - val_loss: 0.2028\n",
      "Epoch 32/200\n",
      "12/12 [==============================] - 0s 7ms/step - loss: 0.2396 - val_loss: 0.2042\n",
      "Epoch 33/200\n",
      "12/12 [==============================] - 0s 6ms/step - loss: 0.2193 - val_loss: 0.2009\n",
      "Epoch 34/200\n",
      "12/12 [==============================] - 0s 6ms/step - loss: 0.2268 - val_loss: 0.1974\n",
      "Epoch 35/200\n",
      "12/12 [==============================] - 0s 7ms/step - loss: 0.2289 - val_loss: 0.2018\n",
      "Epoch 36/200\n",
      "12/12 [==============================] - 0s 5ms/step - loss: 0.2317 - val_loss: 0.1983\n",
      "Epoch 37/200\n",
      "12/12 [==============================] - 0s 7ms/step - loss: 0.2277 - val_loss: 0.1941\n",
      "Epoch 38/200\n",
      "12/12 [==============================] - 0s 6ms/step - loss: 0.2199 - val_loss: 0.1906\n",
      "Epoch 39/200\n",
      "12/12 [==============================] - 0s 8ms/step - loss: 0.2199 - val_loss: 0.1944\n",
      "Epoch 40/200\n",
      "12/12 [==============================] - 0s 7ms/step - loss: 0.2073 - val_loss: 0.1914\n",
      "Epoch 41/200\n",
      "12/12 [==============================] - 0s 5ms/step - loss: 0.2069 - val_loss: 0.1924\n",
      "Epoch 42/200\n",
      "12/12 [==============================] - 0s 7ms/step - loss: 0.2080 - val_loss: 0.1934\n",
      "Epoch 43/200\n",
      "12/12 [==============================] - 0s 6ms/step - loss: 0.2032 - val_loss: 0.1908\n",
      "Epoch 44/200\n",
      "12/12 [==============================] - 0s 7ms/step - loss: 0.2018 - val_loss: 0.1920\n",
      "Epoch 45/200\n",
      "12/12 [==============================] - 0s 8ms/step - loss: 0.2140 - val_loss: 0.1916\n",
      "Epoch 46/200\n",
      "12/12 [==============================] - 0s 7ms/step - loss: 0.2106 - val_loss: 0.1923\n",
      "Epoch 47/200\n",
      "12/12 [==============================] - 0s 6ms/step - loss: 0.2123 - val_loss: 0.1930\n",
      "Epoch 48/200\n",
      "12/12 [==============================] - 0s 7ms/step - loss: 0.2010 - val_loss: 0.1896\n",
      "Epoch 49/200\n",
      "12/12 [==============================] - 0s 7ms/step - loss: 0.2010 - val_loss: 0.1920\n",
      "Epoch 50/200\n",
      "12/12 [==============================] - 0s 7ms/step - loss: 0.2021 - val_loss: 0.1873\n",
      "Epoch 51/200\n",
      "12/12 [==============================] - 0s 8ms/step - loss: 0.1944 - val_loss: 0.1882\n",
      "Epoch 52/200\n",
      "12/12 [==============================] - 0s 7ms/step - loss: 0.1892 - val_loss: 0.1849\n",
      "Epoch 53/200\n",
      "12/12 [==============================] - 0s 7ms/step - loss: 0.2038 - val_loss: 0.1852\n",
      "Epoch 54/200\n",
      "12/12 [==============================] - 0s 6ms/step - loss: 0.1905 - val_loss: 0.1879\n",
      "Epoch 55/200\n",
      "12/12 [==============================] - 0s 7ms/step - loss: 0.2009 - val_loss: 0.1880\n",
      "Epoch 56/200\n",
      "12/12 [==============================] - 0s 7ms/step - loss: 0.1879 - val_loss: 0.1903\n",
      "Epoch 57/200\n",
      "12/12 [==============================] - 0s 7ms/step - loss: 0.1954 - val_loss: 0.1887\n",
      "Epoch 58/200\n",
      "12/12 [==============================] - 0s 8ms/step - loss: 0.1942 - val_loss: 0.1859\n",
      "Epoch 59/200\n",
      "12/12 [==============================] - 0s 6ms/step - loss: 0.1916 - val_loss: 0.1920\n",
      "Epoch 60/200\n",
      "12/12 [==============================] - 0s 7ms/step - loss: 0.1868 - val_loss: 0.1929\n",
      "Epoch 61/200\n",
      "12/12 [==============================] - 0s 7ms/step - loss: 0.1911 - val_loss: 0.1947\n",
      "Epoch 62/200\n",
      "12/12 [==============================] - 0s 6ms/step - loss: 0.1774 - val_loss: 0.1863\n",
      "Epoch 63/200\n",
      "12/12 [==============================] - 0s 7ms/step - loss: 0.1957 - val_loss: 0.1845\n",
      "Epoch 64/200\n",
      "12/12 [==============================] - 0s 7ms/step - loss: 0.1893 - val_loss: 0.1877\n",
      "Epoch 65/200\n",
      "12/12 [==============================] - 0s 7ms/step - loss: 0.1862 - val_loss: 0.1882\n",
      "Epoch 66/200\n",
      "12/12 [==============================] - 0s 7ms/step - loss: 0.1994 - val_loss: 0.1941\n",
      "Epoch 67/200\n",
      "12/12 [==============================] - 0s 7ms/step - loss: 0.1922 - val_loss: 0.1911\n",
      "Epoch 68/200\n",
      "12/12 [==============================] - 0s 5ms/step - loss: 0.1817 - val_loss: 0.1920\n",
      "Epoch 69/200\n",
      "12/12 [==============================] - 0s 7ms/step - loss: 0.1804 - val_loss: 0.2001\n",
      "Epoch 70/200\n",
      "12/12 [==============================] - 0s 6ms/step - loss: 0.1791 - val_loss: 0.1940\n",
      "Epoch 71/200\n",
      "12/12 [==============================] - 0s 7ms/step - loss: 0.1984 - val_loss: 0.1928\n",
      "Epoch 72/200\n",
      "12/12 [==============================] - 0s 7ms/step - loss: 0.1922 - val_loss: 0.1889\n"
     ]
    }
   ],
   "source": [
    "#Fit the model\n",
    "history = model.fit(X_train, y_train,\n",
    "                   validation_data = (X_test, y_test),\n",
    "                   callbacks = [callback],\n",
    "                   batch_size = 100,\n",
    "                   epochs = 200)"
   ]
  },
  {
   "cell_type": "code",
   "execution_count": 239,
   "metadata": {},
   "outputs": [
    {
     "data": {
      "text/plain": [
       "<matplotlib.axes._subplots.AxesSubplot at 0x215ec48c1f0>"
      ]
     },
     "execution_count": 239,
     "metadata": {},
     "output_type": "execute_result"
    },
    {
     "data": {
      "image/png": "[encoded data removed]",
      "text/plain": [
       "<Figure size 432x288 with 1 Axes>"
      ]
     },
     "metadata": {
      "needs_background": "light"
     },
     "output_type": "display_data"
    }
   ],
   "source": [
    "#Plotting the training loss (blue) and validation loss (orange)\n",
    "pd.DataFrame(history.history).loc[:, ['loss', 'val_loss']].plot()"
   ]
  },
  {
   "cell_type": "markdown",
   "metadata": {},
   "source": [
    "Training and validation losses reach similar values, the model seems to be fitted well"
   ]
  },
  {
   "cell_type": "code",
   "execution_count": 242,
   "metadata": {},
   "outputs": [
    {
     "name": "stdout",
     "output_type": "stream",
     "text": [
      "MSE: 0.08463594785860108\n"
     ]
    }
   ],
   "source": [
    "#Calculating mean squared error for model evaluation\n",
    "y_pred = []\n",
    "for x in model.predict(X_test):\n",
    "    for y in x:\n",
    "        y_pred.append(y)\n",
    "from sklearn.metrics import mean_squared_error\n",
    "import math\n",
    "print('MSE: ' + str(mean_squared_error(y_test, y_pred)))"
   ]
  },
  {
   "cell_type": "code",
   "execution_count": null,
   "metadata": {},
   "outputs": [],
   "source": []
  }
 ],
 "metadata": {
  "kernelspec": {
   "display_name": "Python 3",
   "language": "python",
   "name": "python3"
  },
  "language_info": {
   "codemirror_mode": {
    "name": "ipython",
    "version": 3
   },
   "file_extension": ".py",
   "mimetype": "text/x-python",
   "name": "python",
   "nbconvert_exporter": "python",
   "pygments_lexer": "ipython3",
   "version": "3.8.3"
  }
 },
 "nbformat": 4,
 "nbformat_minor": 4
}
